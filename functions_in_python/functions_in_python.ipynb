{
 "cells": [
  {
   "cell_type": "markdown",
   "metadata": {},
   "source": [
    "# Functions In Python\n",
    "A function within Python is a block of reusable code to perform a specific task.\n",
    "\n",
    "To define a function keyword `def` is used.\n",
    "Can take argments but doesn't have to and it can also either return values. Default will a Python function return `None`.\n",
    "\n",
    "Functions within Python are  `first-class citizens`.\n",
    "\n",
    "This mean they can be treated just like any other data type. Where functions can either be assigned to variables and they can be parsed and returned as arguments.\n",
    "\n",
    "Functions allow an arbitrary number of positional arguments with the use of `*args & **kwargs`.\n",
    "\n",
    "```python\n",
    "def my_function(*args, **kwargs):\n",
    "    for arg in args:\n",
    "        print(arg)\n",
    "    for key, value in kwargs.items():\n",
    "        print(key, value)\n",
    "\n",
    "my_function(1, 2, 3, name='Alice', age=30)\n",
    "```\n",
    "\n",
    "<br>\n",
    "\n",
    "---\n",
    "\n",
    "<br>"
   ]
  },
  {
   "cell_type": "markdown",
   "metadata": {},
   "source": [
    "### Python Built-in Functions\n",
    "Python comes with a rich set of built-in functions which cover a wide range of tasks from basic operations like mathematical calculations and type conversions to more complex operations like iteration and data manipulation."
   ]
  },
  {
   "cell_type": "code",
   "execution_count": null,
   "metadata": {},
   "outputs": [],
   "source": [
    "# Using built-in functions\n",
    "numbers = [10, 20, 30, 40, 50]\n",
    "\n",
    "# Type of provided argument\n",
    "data_type = type(numbers)\n",
    "print(f'Type: {data_type}')\n",
    "\n",
    "# Sum of numbers\n",
    "total = sum(numbers)\n",
    "print(f\"Sum: {total}\")\n",
    "\n",
    "# Minimum value\n",
    "minimum = min(numbers)\n",
    "print(f\"Min: {minimum}\")\n",
    "\n",
    "# Maximum value\n",
    "maximum = max(numbers)\n",
    "print(f\"Max: {maximum}\")\n",
    "\n",
    "# Length of the list\n",
    "length = len(numbers)\n",
    "print(f\"Length: {length}\")\n",
    "\n",
    "# Range from 0 - 10, range(inclusive start, exclusive end, incrementor)\n",
    "count_range = range(0, 10)"
   ]
  },
  {
   "cell_type": "markdown",
   "metadata": {},
   "source": [
    "<br>\n",
    "\n",
    "---\n",
    "\n",
    "<br>\n",
    "\n",
    "### Functions for Lists\n",
    "When working with lists in Python the list have following functions"
   ]
  },
  {
   "cell_type": "code",
   "execution_count": null,
   "metadata": {},
   "outputs": [],
   "source": [
    "numbers = [1, 2, 3, 4, 5]\n",
    "print(f'Initial list: {numbers}')\n",
    "\n",
    "numbers.append(6)\n",
    "print(f'After appending: {numbers}')\n",
    "\n",
    "numbers.extend([7, 8])\n",
    "print(f'After extending: {numbers}')\n",
    "\n",
    "numbers.insert(0, 'a')\n",
    "print(f'After inserting: {numbers}')\n",
    "\n",
    "numbers.remove('a')\n",
    "print(f'After removing value a: {numbers}')\n",
    "\n",
    "numbers.pop(len(numbers) - 2)\n",
    "print(f'After removing second last value: {numbers}')\n",
    "\n",
    "numbers.reverse()\n",
    "print(f'Reversing the list: {numbers}')"
   ]
  },
  {
   "cell_type": "markdown",
   "metadata": {},
   "source": [
    "<br>\n",
    "\n",
    "---\n",
    "\n",
    "<br>\n",
    "\n",
    "### Decorators\n",
    "The use of decorators in Python is a powerful feature to modify and extend the behavior of functions without chaning the source code.\n",
    "\n",
    "Implemented by using functions themselves.\n",
    "\n",
    "An example for a decorator will follow."
   ]
  },
  {
   "cell_type": "code",
   "execution_count": null,
   "metadata": {},
   "outputs": [],
   "source": [
    "def my_decorator(func):\n",
    "    def wrapper():\n",
    "        print(\"Something is happening before the function is called.\")\n",
    "        func()\n",
    "        print(\"Something is happening after the function is called.\")\n",
    "    return wrapper\n",
    "\n",
    "@my_decorator\n",
    "def say_hello():\n",
    "    print(\"Hello!\")\n",
    "\n",
    "say_hello()"
   ]
  },
  {
   "cell_type": "markdown",
   "metadata": {},
   "source": [
    "<br>\n",
    "\n",
    "---\n",
    "\n",
    "<br>\n",
    "\n",
    "#### Lambda / Anonymous Functions"
   ]
  },
  {
   "cell_type": "code",
   "execution_count": null,
   "metadata": {},
   "outputs": [],
   "source": [
    "# Lambda with map\n",
    "numbers = [1, 2, 3, 4, 5]\n",
    "squared_numbers = list(map(lambda x: x**2, numbers))\n",
    "print(f\"Squared Numbers: {squared_numbers}\")\n",
    "\n",
    "# Lambda with filter\n",
    "even_numbers = list(filter(lambda x: x % 2 == 0, numbers))\n",
    "print(f\"Even Numbers: {even_numbers}\")"
   ]
  },
  {
   "cell_type": "markdown",
   "metadata": {},
   "source": [
    "<br>\n",
    "\n",
    "---\n",
    "\n",
    "\n",
    "#### List Comprehension"
   ]
  },
  {
   "cell_type": "code",
   "execution_count": null,
   "metadata": {},
   "outputs": [],
   "source": [
    "# List comprehension for squares\n",
    "squares = [x**2 for x in range(10)]\n",
    "print(f\"Squares: {squares}\")\n",
    "\n",
    "# Conditional list comprehension for even squares\n",
    "even_squares = [x**2 for x in range(10) if x % 2 == 0]\n",
    "print(f\"Even Squares: {even_squares}\")"
   ]
  },
  {
   "cell_type": "markdown",
   "metadata": {},
   "source": [
    "<br>\n",
    "\n",
    "---\n",
    "\n",
    "\n",
    "#### Dunder Methods / Magic Methods"
   ]
  },
  {
   "cell_type": "code",
   "execution_count": null,
   "metadata": {},
   "outputs": [],
   "source": [
    "class MyList:\n",
    "    def __init__(self, elements):\n",
    "        self.elements = elements\n",
    "\n",
    "    def __str__(self):\n",
    "        return f\"MyList with elements: {self.elements}\"\n",
    "\n",
    "    def __len__(self):\n",
    "        return len(self.elements)\n",
    "\n",
    "my_list = MyList([1, 2, 3, 4, 5])\n",
    "print(my_list)        # Uses __str__ method\n",
    "print(len(my_list))   # Uses __len__ method"
   ]
  }
 ],
 "metadata": {
  "kernelspec": {
   "display_name": "Python 3",
   "language": "python",
   "name": "python3"
  },
  "language_info": {
   "codemirror_mode": {
    "name": "ipython",
    "version": 3
   },
   "file_extension": ".py",
   "mimetype": "text/x-python",
   "name": "python",
   "nbconvert_exporter": "python",
   "pygments_lexer": "ipython3",
   "version": "3.12.3"
  }
 },
 "nbformat": 4,
 "nbformat_minor": 2
}
