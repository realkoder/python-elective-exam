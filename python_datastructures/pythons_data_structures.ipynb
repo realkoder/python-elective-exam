{
 "cells": [
  {
   "cell_type": "markdown",
   "metadata": {},
   "source": [
    "# Pythons Data Structures"
   ]
  },
  {
   "cell_type": "markdown",
   "metadata": {},
   "source": [
    "<br>\n",
    "\n",
    "---\n",
    "\n",
    "## Data Structures For Python\n",
    "\n",
    "Python have four types of primitive datatypes which is:\n",
    "- integer\n",
    "- float\n",
    "- string\n",
    "- boolean\n",
    "\n",
    "The most common data structures for Python:\n",
    "- Lists\n",
    "- Tuple\n",
    "- Dictionary\n",
    "- Set"
   ]
  },
  {
   "cell_type": "markdown",
   "metadata": {},
   "source": [
    "<br>\n",
    "\n",
    "---\n",
    "\n",
    "### Lists\n",
    "Lists are containers for storing data either primitive or non-primitive datatypes.\n",
    "\n",
    "`Ordered` where each item added will appended to the end of the list.\n",
    "\n",
    "`Mutable` - modification is allowed. Insertion, deletion and updating elements is possible within the list.\n",
    "\n",
    "`Duplicate entries` are allowed."
   ]
  },
  {
   "cell_type": "code",
   "execution_count": 2,
   "metadata": {},
   "outputs": [
    {
     "name": "stdout",
     "output_type": "stream",
     "text": [
      "Hey\n"
     ]
    }
   ],
   "source": [
    "# ========== Construction ==========\n",
    "container = [1, 2, 3, 4, 5]\n",
    "\n",
    "\n",
    "# ========== Common operations ==========\n",
    "container.append(6)\n",
    "\n",
    "container.remove(3)\n",
    "\n",
    "first_element = container[0]\n",
    "last_element = container[-1]\n",
    "\n",
    "# Slicing\n",
    "sub_list = container[1:3]\n",
    "\n",
    "\n",
    "# ========== Built-in Functions ==========\n",
    "length = len(container)\n",
    "\n",
    "sorted_list = sorted(container)\n",
    "\n",
    "container.reverse()\n"
   ]
  },
  {
   "cell_type": "markdown",
   "metadata": {},
   "source": [
    "<br>\n",
    "\n",
    "---\n",
    "\n",
    "### Tuple\n",
    "Tuples are containers for storing data like primitive or non-primitive datatypes.\n",
    "\n",
    "`Ordered` once a tuple is created, the order of elements does not change\n",
    "\n",
    "`Imutable`, manipulation is not possible after creation. So insertion, deletion and updating items within a tuiple is not allowed.\n",
    "\n",
    "`Duplicate entries` are allowed."
   ]
  },
  {
   "cell_type": "code",
   "execution_count": null,
   "metadata": {},
   "outputs": [],
   "source": [
    "# ========== Construction ==========\n",
    "tuple_example = (1, 2, 3, 4, 5)\n",
    "\n",
    "\n",
    "# ========== Common operations ==========\n",
    "first_element = tuple_example[0]\n",
    "last_element = tuple_example[-1]\n",
    "\n",
    "# Slicing\n",
    "sub_tuple = tuple_example[1:3]\n",
    "\n",
    "\n",
    "# ========== Built-in Functions ==========\n",
    "length = len(tuple_example)\n",
    "\n",
    "index = tuple_example.index(3)\n",
    "\n",
    "count = tuple_example.count(2)"
   ]
  },
  {
   "cell_type": "markdown",
   "metadata": {},
   "source": [
    "<br>\n",
    "\n",
    "---\n",
    "\n",
    "### Dictionary\n",
    "A dictionary is key-value based data structure for storing primitive or non-primitive datatypes as both key and value.\n",
    "\n",
    "`Ordered` maintains the insertion order of keys starting from Python 3.7. Adding new key-value pairs will append them to the end of the dictionary.\n",
    "\n",
    "`Mutable`, manipulation is possible. Insertion, deletion and updating items within a dictionary is allowed.\n",
    "\n",
    "`Unique keys` the keys within a dictionary must be unique. Duplicate keys are not allowed, but values can be duplicated."
   ]
  },
  {
   "cell_type": "code",
   "execution_count": null,
   "metadata": {},
   "outputs": [],
   "source": [
    "# # ========== Construction ==========\n",
    "dictionary_example = {'a': 1, 'b': 2, 'c': 3}\n",
    "\n",
    "\n",
    "# ========== Common operations ==========\n",
    "dictionary_example['d'] = 4\n",
    "\n",
    "del dictionary_example['b']\n",
    "\n",
    "value = dictionary_example['a']\n",
    "\n",
    "# Getting all keys\n",
    "keys = dictionary_example.keys()\n",
    "\n",
    "# Getting all values\n",
    "values = dictionary_example.values()\n",
    "\n",
    "# Slicing\n",
    "sub_list = dictionary_example[1:3]\n",
    "\n",
    "\n",
    "# ========== Built-in Functions ==========\n",
    "length = len(dictionary_example)\n",
    "\n",
    "items = dictionary_example.items()\n",
    "\n",
    "# Merging dictionaries\n",
    "dictionary_example.update({'e': 5})"
   ]
  },
  {
   "cell_type": "markdown",
   "metadata": {},
   "source": [
    "<br>\n",
    "\n",
    "---\n",
    "\n",
    "### Set"
   ]
  }
 ],
 "metadata": {
  "kernelspec": {
   "display_name": "Python 3",
   "language": "python",
   "name": "python3"
  },
  "language_info": {
   "codemirror_mode": {
    "name": "ipython",
    "version": 3
   },
   "file_extension": ".py",
   "mimetype": "text/x-python",
   "name": "python",
   "nbconvert_exporter": "python",
   "pygments_lexer": "ipython3",
   "version": "3.12.3"
  }
 },
 "nbformat": 4,
 "nbformat_minor": 2
}
