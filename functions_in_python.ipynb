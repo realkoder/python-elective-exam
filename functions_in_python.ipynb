{
 "cells": [
  {
   "cell_type": "markdown",
   "metadata": {},
   "source": [
    "# Functions In Python"
   ]
  },
  {
   "cell_type": "markdown",
   "metadata": {},
   "source": [
    "### Python Built-in Functions"
   ]
  },
  {
   "cell_type": "code",
   "execution_count": null,
   "metadata": {},
   "outputs": [],
   "source": [
    "# Using built-in functions\n",
    "numbers = [10, 20, 30, 40, 50]\n",
    "\n",
    "# Sum of numbers\n",
    "total = sum(numbers)\n",
    "print(f\"Sum: {total}\")\n",
    "\n",
    "# Minimum value\n",
    "minimum = min(numbers)\n",
    "print(f\"Min: {minimum}\")\n",
    "\n",
    "# Maximum value\n",
    "maximum = max(numbers)\n",
    "print(f\"Max: {maximum}\")\n",
    "\n",
    "# Length of the list\n",
    "length = len(numbers)\n",
    "print(f\"Length: {length}\")"
   ]
  },
  {
   "cell_type": "markdown",
   "metadata": {},
   "source": [
    "### Decorators"
   ]
  },
  {
   "cell_type": "markdown",
   "metadata": {},
   "source": []
  },
  {
   "cell_type": "code",
   "execution_count": null,
   "metadata": {},
   "outputs": [],
   "source": []
  }
 ],
 "metadata": {
  "language_info": {
   "name": "python"
  }
 },
 "nbformat": 4,
 "nbformat_minor": 2
}
