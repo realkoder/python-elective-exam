{
 "cells": [
  {
   "cell_type": "markdown",
   "metadata": {},
   "source": [
    "# Pythonic OOP"
   ]
  },
  {
   "cell_type": "markdown",
   "metadata": {},
   "source": [
    "---\n",
    "\n",
    "<br>\n",
    "\n",
    "### Initializing class and creating methods for that class\n",
    "\n",
    "---"
   ]
  },
  {
   "cell_type": "code",
   "execution_count": 11,
   "metadata": {},
   "outputs": [
    {
     "name": "stdout",
     "output_type": "stream",
     "text": [
      "Circle with radius: 5\n"
     ]
    }
   ],
   "source": [
    "import math\n",
    "\n",
    "class Circle:\n",
    "    def __init__(self, radius):\n",
    "        self.radius = radius\n",
    "\n",
    "    def calculate_area(self):\n",
    "        return round(math.pi * self.radius ** 2, 2)\n",
    "    \n",
    "    def calculate_perimeter(self):\n",
    "        return round(2 * math.pi * self.radius, 2)\n",
    "    \n",
    "    def calculate_diameter(self):\n",
    "        return round(2 * self.radius, 2)\n",
    "    \n",
    "    def calculate_area_2_circles(self, circle2):\n",
    "        return self.calculate_area() + circle2.calculate_area()\n",
    "    \n",
    "    \n",
    "\n",
    "    "
   ]
  },
  {
   "cell_type": "markdown",
   "metadata": {},
   "source": [
    "### Utilizing the Circle class and the methods:\n",
    "\n",
    "#### Creating Objects"
   ]
  },
  {
   "cell_type": "code",
   "execution_count": 1,
   "metadata": {},
   "outputs": [
    {
     "name": "stdout",
     "output_type": "stream",
     "text": [
      "Area of circle 1:  28.27\n",
      "Area of circle 2:  314.16\n",
      "Area of Circle 3:  706.86\n"
     ]
    }
   ],
   "source": [
    "from circle import Circle\n",
    "\n",
    "\n",
    "circle1 = Circle(3)\n",
    "circle2 = Circle(10)\n",
    "circle3 = Circle(15)\n",
    "\n",
    "print(\"Area of circle 1: \", circle1.calculate_area())\n",
    "\n",
    "print(\"Area of circle 2: \", circle2.calculate_area())\n",
    "\n",
    "print(\"Area of Circle 3: \",circle3.calculate_area())\n",
    "\n",
    "# Live code: Change the radius of a circle\n",
    "\n",
    "\n",
    "\n",
    "# Live Code: Write a __str__ method for the Circle Class\n"
   ]
  },
  {
   "cell_type": "code",
   "execution_count": 1,
   "metadata": {},
   "outputs": [
    {
     "name": "stdout",
     "output_type": "stream",
     "text": [
      "Circle with radius: 5\n",
      "Test\n",
      "342.43\n"
     ]
    }
   ],
   "source": [
    "from circle import Circle\n",
    "\n",
    "circle1 = Circle(3)\n",
    "circle2 = Circle(10)\n",
    "\n",
    "print(circle1.calculate_area_2_circles(circle2))"
   ]
  },
  {
   "cell_type": "markdown",
   "metadata": {},
   "source": [
    "#### Inheritance"
   ]
  },
  {
   "cell_type": "code",
   "execution_count": 6,
   "metadata": {},
   "outputs": [
    {
     "name": "stdout",
     "output_type": "stream",
     "text": [
      "Circle with radius: 3\n",
      "Circle with Radius: 3 and Color: red\n",
      "3\n"
     ]
    }
   ],
   "source": [
    "from colored_circle import ColoredCircle\n",
    "\n",
    "circle1 = Circle(3)\n",
    "colored_circle1 = ColoredCircle(3, \"red\")\n",
    "\n",
    "print(circle1)\n",
    "print(colored_circle1)\n",
    "\n",
    "colored_circle1.calculate_area()\n",
    "print(colored_circle1.radius)"
   ]
  }
 ],
 "metadata": {
  "kernelspec": {
   "display_name": "Python 3",
   "language": "python",
   "name": "python3"
  },
  "language_info": {
   "codemirror_mode": {
    "name": "ipython",
    "version": 3
   },
   "file_extension": ".py",
   "mimetype": "text/x-python",
   "name": "python",
   "nbconvert_exporter": "python",
   "pygments_lexer": "ipython3",
   "version": "3.11.9"
  }
 },
 "nbformat": 4,
 "nbformat_minor": 2
}
