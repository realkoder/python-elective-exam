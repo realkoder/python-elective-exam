{
 "cells": [
  {
   "cell_type": "markdown",
   "metadata": {},
   "source": [
    "# Object-Oriented Programmin within Python"
   ]
  },
  {
   "cell_type": "markdown",
   "metadata": {},
   "source": [
    "<br>\n",
    "\n",
    "---\n",
    "\n",
    "### Introduction\n",
    "Object-oriented programming (OOP) is a paradigm relying on using classes as blueprints for the creation of objects.\n",
    "\n",
    "Main concepts are as follows:\n",
    "- `Classes and Objects` - a class defines a set of attributes and methods that the created object will have.\n",
    "\n",
    "- `Encapsulation` -  wrapping variables and methods that are cohesive with each other into a single unit.\n",
    "    - This often involves restricting access `private attributes` to some of the object's components, which is known as information hiding.\n",
    "\n",
    "- `Inheritance` - allows a class to inherit attributes and methods from another class. Promoting code reuse and establishing a natural hierarchy.\n",
    "\n",
    "- `Polymorphism` - methods can do different things based on the object they are acting upon, even if they share the same name."
   ]
  },
  {
   "cell_type": "markdown",
   "metadata": {},
   "source": [
    "<br>\n",
    "\n",
    "---\n",
    "\n",
    "#### Classes and Objects"
   ]
  },
  {
   "cell_type": "code",
   "execution_count": null,
   "metadata": {},
   "outputs": [],
   "source": [
    "class Pet:\n",
    "    def __init__(self, name, species, favorite_toy):\n",
    "        self.name = name\n",
    "        self.species = species\n",
    "        self.favorite_toy = favorite_toy\n",
    "\n",
    "    def play(self):\n",
    "        print(f\"The {self.species} named {self.name} plays with {self.favorite_toy}.\")\n",
    "\n",
    "dog = Pet(\"Blondie\", \"dog\", \"tennis ball\")\n",
    "cat = Pet(\"Morrissey\", \"cat\", \"mouse\")\n",
    "\n",
    "dog.play()\n",
    "cat.play()"
   ]
  },
  {
   "cell_type": "markdown",
   "metadata": {},
   "source": [
    "<br>\n",
    "\n",
    "---\n",
    "\n",
    "#### Encapsulation\n"
   ]
  },
  {
   "cell_type": "code",
   "execution_count": 6,
   "metadata": {},
   "outputs": [
    {
     "name": "stdout",
     "output_type": "stream",
     "text": [
      "Alice\n",
      "True\n"
     ]
    }
   ],
   "source": [
    "class Person:\n",
    "    def __init__(self, name, age):\n",
    "        self._name = name\n",
    "        self._age = age\n",
    "\n",
    "    # Property decorator - getter method\n",
    "    @property\n",
    "    def name(self):\n",
    "        return self._name\n",
    "\n",
    "    # Setter\n",
    "    @name.setter\n",
    "    def name(self, name):\n",
    "        print(\"Setting the age\")\n",
    "        if isinstance(name, str):\n",
    "            self._name = name.capitalize()\n",
    "        else:\n",
    "            raise ValueError(\"Sorry your name must be a string\") \n",
    "    \n",
    "    def __eq__(self, other):\n",
    "        return self._age == other._age\n",
    "\n",
    "person = Person(\"Alice\", 30)\n",
    "print(person.name)\n",
    "print(person == person)"
   ]
  },
  {
   "cell_type": "markdown",
   "metadata": {},
   "source": [
    "#### Inheritance"
   ]
  },
  {
   "cell_type": "code",
   "execution_count": null,
   "metadata": {},
   "outputs": [],
   "source": [
    "class Animal:\n",
    "    def __init__(self, name, species):\n",
    "        self.name = name\n",
    "        self.species = species\n",
    "\n",
    "    def make_sound(self, sound):\n",
    "        print(f\"{self.name} says {sound}\")\n",
    "\n",
    "class Dog(Animal):\n",
    "    def __init__(self, name, breed):\n",
    "        super().__init__(name, \"Dog\")\n",
    "        self.breed = breed\n",
    "\n",
    "    def fetch(self):\n",
    "        print(f\"{self.name} is fetching!\")\n",
    "\n",
    "dog = Dog(\"Buddy\", \"Golden Retriever\")\n",
    "dog.make_sound(\"Woof\")\n",
    "dog.fetch()"
   ]
  },
  {
   "cell_type": "markdown",
   "metadata": {},
   "source": [
    "<br>\n",
    "\n",
    "---\n",
    "\n",
    "#### Polymorphism\n"
   ]
  },
  {
   "cell_type": "code",
   "execution_count": null,
   "metadata": {},
   "outputs": [],
   "source": [
    "class Animal:\n",
    "    def __init__(self, name, species):\n",
    "        self.name = name\n",
    "        self.species = species\n",
    "\n",
    "    def make_sound(self):\n",
    "        pass\n",
    "\n",
    "class Dog(Animal):\n",
    "    def make_sound(self):\n",
    "        print(\"Woof\")\n",
    "\n",
    "class Cat(Animal):\n",
    "    def make_sound(self):\n",
    "        print(\"Meow\")\n",
    "\n",
    "def animal_sound(animal):\n",
    "    animal.make_sound()\n",
    "\n",
    "dog = Dog(\"Buddy\", \"Dog\")\n",
    "cat = Cat(\"Whiskers\", \"Cat\")\n",
    "\n",
    "animal_sound(dog)\n",
    "animal_sound(cat)"
   ]
  }
 ],
 "metadata": {
  "kernelspec": {
   "display_name": "Python 3",
   "language": "python",
   "name": "python3"
  },
  "language_info": {
   "codemirror_mode": {
    "name": "ipython",
    "version": 3
   },
   "file_extension": ".py",
   "mimetype": "text/x-python",
   "name": "python",
   "nbconvert_exporter": "python",
   "pygments_lexer": "ipython3",
   "version": "3.12.3"
  }
 },
 "nbformat": 4,
 "nbformat_minor": 2
}
