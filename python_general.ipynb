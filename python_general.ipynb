{
 "cells": [
  {
   "cell_type": "markdown",
   "metadata": {},
   "source": [
    "# Python Elective Exam\n",
    "\n",
    "## What is Python\n",
    "\n",
    "`High-level programming language` - known for simplicity, readability and versatility e.g. no use of curly brackets or semicolons.\n",
    "\n",
    "`Dynamically typed` - variables are determined at runtime.\n",
    "\n",
    "`Intepreted` - Python sourcecode is converted to bytecode which is exectued by the Python virtual machine `PVM`. \n",
    "- Enables cross-platform compatibility.\n",
    "- Scripting language.\n",
    "\n",
    "<br>\n",
    "\n",
    "Different use-cases:\n",
    "- Web development as a backend with `Flask` or `Django`\n",
    "- AI / ML - Python has libraries provide tools for data manipulation, statistical analysis, and building and training machine learning models.\n",
    "- Game development\n",
    "\n",
    "<br>\n",
    "\n",
    "---\n",
    "\n",
    "### Example of a Flask server\n",
    "Install Flask for venv:\n",
    "\n",
    "```bash\n",
    "pip install flask\n",
    "```"
   ]
  },
  {
   "cell_type": "code",
   "execution_count": null,
   "metadata": {},
   "outputs": [],
   "source": [
    "from flask import Flask, jsonify, request\n",
    "\n",
    "app = Flask(__name__)\n",
    "\n",
    "# Home route\n",
    "@app.route('/')\n",
    "def home():\n",
    "    return \"Welcome to the Flask app!\"\n",
    "\n",
    "# Hello route with a path parameter\n",
    "@app.route('/hello/<name>')\n",
    "def hello(name):\n",
    "    return f\"Hello, {name}!\"\n",
    "\n",
    "# Route for adding two numbers using POST method\n",
    "@app.route('/add_post', methods=['POST'])\n",
    "def add_post():\n",
    "    data = request.get_json()\n",
    "    a = data.get('a', 0)\n",
    "    b = data.get('b', 0)\n",
    "    return jsonify(result=a + b)\n",
    "\n",
    "if __name__ == '__main__':\n",
    "    app.run(port=5001)\n"
   ]
  }
 ],
 "metadata": {
  "kernelspec": {
   "display_name": "venv",
   "language": "python",
   "name": "python3"
  },
  "language_info": {
   "codemirror_mode": {
    "name": "ipython",
    "version": 3
   },
   "file_extension": ".py",
   "mimetype": "text/x-python",
   "name": "python",
   "nbconvert_exporter": "python",
   "pygments_lexer": "ipython3",
   "version": "3.12.3"
  }
 },
 "nbformat": 4,
 "nbformat_minor": 2
}
