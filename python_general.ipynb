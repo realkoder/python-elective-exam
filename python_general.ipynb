{
 "cells": [
  {
   "cell_type": "markdown",
   "metadata": {},
   "source": [
    "# Python Elective Exam\n",
    "\n",
    "## What is Python\n",
    "\n",
    "`High-level programming language` - known for simplicity, readability and versatility e.g. no use of curly brackets or semicolons.\n",
    "\n",
    "`Dynamically typed` - variables are determined at runtime.\n",
    "\n",
    "`Intepreted` - Python sourcecode is converted to bytecode which is exectued by the Python virtual machine `PVM`. \n",
    "- Enables cross-platform compatibility.\n",
    "- Scripting language.\n",
    "\n",
    "<br>\n",
    "\n",
    "Different use-cases:\n",
    "- Web development as a backend with `Flask` or `Django`\n",
    "- AI / ML - Python has libraries provide tools for data manipulation, statistical analysis, and building and training machine learning models.\n",
    "- Game development"
   ]
  },
  {
   "cell_type": "markdown",
   "metadata": {},
   "source": []
  }
 ],
 "metadata": {
  "language_info": {
   "name": "python"
  }
 },
 "nbformat": 4,
 "nbformat_minor": 2
}
