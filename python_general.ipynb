{
 "cells": [
  {
   "cell_type": "markdown",
   "metadata": {},
   "source": [
    "# Python Elective Exam\n",
    "\n",
    "## What is Python\n",
    "\n",
    "`High-level programming language` - known for simplicity, readability and versatility e.g. no use of curly brackets or semicolons.\n",
    "\n",
    "`Dynamically typed` - variables are determined at runtime.\n",
    "\n",
    "`Intepreted` - Python sourcecode is converted to bytecode which is exectued by the Python virtual machine `PVM`. \n",
    "- Enables cross-platform compatibility.\n",
    "- Scripting language.\n",
    "\n",
    "<br>\n",
    "\n",
    "Different use-cases:\n",
    "- Web development as a backend with `Flask` or `Django`\n",
    "- AI / ML - Python has libraries provide tools for data manipulation, statistical analysis, and building and training machine learning models.\n",
    "- Game development\n",
    "\n",
    "#### Module-based language\n",
    "Within Python code is organized into modules.\n",
    "\n",
    "Modules can be reused by importing them within other modules."
   ]
  },
  {
   "cell_type": "code",
   "execution_count": null,
   "metadata": {},
   "outputs": [],
   "source": [
    "# math_operations.py file\n",
    "\n",
    "def add(x, y):\n",
    "    \"\"\"Addition function\"\"\"\n",
    "    return x + y\n",
    "\n",
    "def subtract(x, y):\n",
    "    \"\"\"Subtraction function\"\"\"\n",
    "    return x - y\n",
    "\n",
    "def multiply(x, y):\n",
    "    \"\"\"Multiplication function\"\"\"\n",
    "    return x * y\n",
    "\n",
    "def divide(x, y):\n",
    "    \"\"\"Division function\"\"\"\n",
    "    if y == 0:\n",
    "        raise ValueError(\"Cannot divide by zero!\")\n",
    "    return x / y\n"
   ]
  },
  {
   "cell_type": "code",
   "execution_count": null,
   "metadata": {},
   "outputs": [],
   "source": [
    "# main.py\n",
    "import math_operations\n",
    "\n",
    "# Using functions from the math_operations module\n",
    "result_add = math_operations.add(5, 3)\n",
    "result_subtract = math_operations.subtract(10, 4)\n",
    "result_multiply = math_operations.multiply(2, 6)\n",
    "result_divide = math_operations.divide(8, 2)\n",
    "\n",
    "print(\"Result of addition:\", result_add)\n",
    "print(\"Result of subtraction:\", result_subtract)\n",
    "print(\"Result of multiplication:\", result_multiply)\n",
    "print(\"Result of division:\", result_divide)\n"
   ]
  },
  {
   "cell_type": "markdown",
   "metadata": {},
   "source": [
    "<br>\n",
    "\n",
    "---\n",
    "\n",
    "<br>\n",
    "\n",
    "### Example of a Flask server\n",
    "Install Flask for venv:\n",
    "\n",
    "```bash\n",
    "pip install flask\n",
    "```"
   ]
  },
  {
   "cell_type": "code",
   "execution_count": null,
   "metadata": {},
   "outputs": [],
   "source": [
    "from flask import Flask, jsonify, request\n",
    "\n",
    "app = Flask(__name__)\n",
    "\n",
    "# Home route\n",
    "@app.route('/')\n",
    "def home():\n",
    "    return \"Welcome to the Flask app!\"\n",
    "\n",
    "# Hello route with a path parameter\n",
    "@app.route('/hello/<name>')\n",
    "def hello(name):\n",
    "    return f\"Hello, {name}!\"\n",
    "\n",
    "# Route for adding two numbers using POST method\n",
    "@app.route('/add_post', methods=['POST'])\n",
    "def add_post():\n",
    "    data = request.get_json()\n",
    "    a = data.get('a', 0)\n",
    "    b = data.get('b', 0)\n",
    "    return jsonify(result=a + b)\n",
    "\n",
    "if __name__ == '__main__':\n",
    "    app.run(port=5001)\n"
   ]
  }
 ],
 "metadata": {
  "kernelspec": {
   "display_name": "venv",
   "language": "python",
   "name": "python3"
  },
  "language_info": {
   "codemirror_mode": {
    "name": "ipython",
    "version": 3
   },
   "file_extension": ".py",
   "mimetype": "text/x-python",
   "name": "python",
   "nbconvert_exporter": "python",
   "pygments_lexer": "ipython3",
   "version": "3.12.3"
  }
 },
 "nbformat": 4,
 "nbformat_minor": 2
}
